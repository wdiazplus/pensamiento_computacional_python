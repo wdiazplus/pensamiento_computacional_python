{
 "cells": [
  {
   "cell_type": "markdown",
   "metadata": {},
   "source": [
    "# Manejando los bugs\n",
    "\n",
    "### Pruebas de caja negra\n",
    "\n",
    "Estas pruebas se basan en la especificación de una función o el programa.Su nombre se debe a que no conocemos su implementación\n",
    "\n",
    "- Prueba inputs y valida outputs\n",
    "\n",
    "Estas pruebas son importantes para 2 tipos de test:\n",
    "\n",
    "- Unit testing: Prueban función por función, verificando que en cada segmento de código funcione.\n",
    "- Integration testing: Prueban que todas las partes funcionen entre sí."
   ]
  },
  {
   "cell_type": "code",
   "execution_count": 7,
   "metadata": {
    "scrolled": true
   },
   "outputs": [
    {
     "name": "stderr",
     "output_type": "stream",
     "text": [
      "..\n",
      "----------------------------------------------------------------------\n",
      "Ran 2 tests in 0.001s\n",
      "\n",
      "OK\n"
     ]
    }
   ],
   "source": [
    "# importando el módulo para hacer pruebas\n",
    "\n",
    "import unittest\n",
    "\n",
    "\n",
    "def suma(num_1,num_2):\n",
    "    return num_1+num_2\n",
    "\n",
    "class CajaNegraTest(unittest.TestCase):\n",
    "    \n",
    "    def test_suma_dos_positivos(self):\n",
    "\n",
    "        num_1 = 10\n",
    "        num_2 = 5\n",
    "\n",
    "        resultado = suma(num_1,num_2)\n",
    "\n",
    "        self.assertEqual(resultado,15)\n",
    "\n",
    "\n",
    "    def test_suma_dos_negativos(self):\n",
    "        num_1 = -8\n",
    "        num_2 = -5\n",
    "\n",
    "        resultado = suma(num_1,num_2)\n",
    "\n",
    "        self.assertEqual(resultado,-13)\n",
    "        \n",
    "if __name__ == \"__main__\":\n",
    "    unittest.main(argv=['first-arg-is-ignored'], exit=False)\n",
    "    \n",
    "# En un editor de código o en consola no debe ponerse argv=['first-arg-is-ignored'], exit=False\n",
    "# Ver https://medium.com/@vladbezden/using-python-unittest-in-ipython-or-jupyter-732448724e31\n"
   ]
  },
  {
   "cell_type": "markdown",
   "metadata": {},
   "source": [
    "### Pruebas de caja de cristal\n",
    "\n",
    "Estas pruebas se basan en el flujo del programa, asumiendo que conocemos la implementación de las funciones (ramificaciones,bucles for y while, recursión, etc) o el programa.\n",
    "\n",
    "Estas pruebas son buenos cuando necesitamos hacer:\n",
    "\n",
    "- Regression texting o mocks: Sirve para revisar que un cambio no genere afectaciones negativas a funciones existentes."
   ]
  },
  {
   "cell_type": "code",
   "execution_count": 1,
   "metadata": {},
   "outputs": [
    {
     "name": "stderr",
     "output_type": "stream",
     "text": [
      "..\n",
      "----------------------------------------------------------------------\n",
      "Ran 2 tests in 0.001s\n",
      "\n",
      "OK\n"
     ]
    }
   ],
   "source": [
    "import unittest\n",
    "\n",
    "def  es_mayor_de_edad(edad):\n",
    "    if edad >= 18:\n",
    "        return True\n",
    "    else :\n",
    "        return False\n",
    "\n",
    "\n",
    "class PruebaDeCristalTest(unittest.TestCase):\n",
    "    \n",
    "    def test_es_mayor_de_edad(self):\n",
    "        edad=18\n",
    "\n",
    "        resultado = es_mayor_de_edad(edad)\n",
    "\n",
    "        self.assertEqual(resultado,True)\n",
    "\n",
    "    def test_es_menor_de_edad(self):\n",
    "        edad = 17\n",
    "\n",
    "        resultado = es_mayor_de_edad(edad)\n",
    "\n",
    "        self.assertEqual(resultado,False)\n",
    "\n",
    "if __name__ == \"__main__\":\n",
    "    unittest.main(argv=['first-arg-is-ignored'], exit=False)"
   ]
  },
  {
   "cell_type": "markdown",
   "metadata": {},
   "source": [
    "### Debugging\n",
    "\n",
    "Los bugs surgieron en los primeros compiladores realizados por Grace Murray Hopper y fue ella quién encontró el primero, que simplemente era un insecto que afectaba el comportamiento correcto de los mismos.\n",
    "\n",
    "Para superar esto, actualmente podremos contemplar lo siguiente:\n",
    "\n",
    "- No molestarnos con el debugger. Aprender a utilizar el print statement es la solución.\n",
    "\n",
    "- Estudiar los datos disponibles\n",
    "\n",
    "- Utilizar los datos para crear hipótesis y experimentos. Método científico.\n",
    "\n",
    "- Tener una mente abierta y no preguntarse por que está fallando, sino por que está funcionando de esa manera.\n",
    "\n",
    "\n",
    "¿Cómo diseñamos los experimentos?\n",
    "\n",
    "- Debugeear es un proceso de búsqueda. Cada prueba debe acotar el espacio de búsqueda y una de las mejores formas en usando búsqueda binaria con print statement\n",
    "\n",
    "¿Cuáles son los errores comúnes y como resolverlos?\n",
    "\n",
    "- Encontrar los sospechosos comúnes\n",
    "- Preguntarse por el fallo y no por el funcionamiento\n",
    "- Explicar el problema a otra persona(ojalá que no tenga contexto) para obligarse a sí mismo a tener las ideas claras.\n",
    "- Llevar un registro de lo que has tratado, preferentemente en la forma de test.\n",
    "- Descansar o irse a dormir.\n",
    "\n"
   ]
  },
  {
   "cell_type": "code",
   "execution_count": null,
   "metadata": {},
   "outputs": [],
   "source": []
  }
 ],
 "metadata": {
  "kernelspec": {
   "display_name": "Python 3",
   "language": "python",
   "name": "python3"
  },
  "language_info": {
   "codemirror_mode": {
    "name": "ipython",
    "version": 3
   },
   "file_extension": ".py",
   "mimetype": "text/x-python",
   "name": "python",
   "nbconvert_exporter": "python",
   "pygments_lexer": "ipython3",
   "version": "3.7.6"
  }
 },
 "nbformat": 4,
 "nbformat_minor": 4
}
