{
 "cells": [
  {
   "cell_type": "markdown",
   "metadata": {},
   "source": [
    "# Tipos estructurados, mutabilidad y funciones de alto nivel\n",
    "\n",
    "\n",
    "## Funciones como objetos\n",
    "\n",
    "Las funciones en Python son un objeto, es decir, son \"elementos de primer nivel\". Esto conlleva a decir, que las funciones tienen las siguientes características:\n",
    "\n",
    "- Tienen un tipo\n",
    "- Se pueden pasar como argumentos de otras funciones\n",
    "- Se pueden utilizar en expresiones\n",
    "- Se pueden incluir en varias estructuras de datos como listas, tuplas y diccionarios.\n",
    "\n",
    "\n",
    "La documentación oficial se puede encontrar [aquí](https://docs.python.org/3/tutorial/datastructures.html)"
   ]
  },
  {
   "cell_type": "code",
   "execution_count": 22,
   "metadata": {},
   "outputs": [
    {
     "name": "stdout",
     "output_type": "stream",
     "text": [
      "Ingresa el valor a evaluar en las funciones 2\n",
      "La función lineal evaluada en 2 es 8\n",
      "La función cuadrática evaluada en 2 es 20\n",
      "La función cúbica evaluada en 2 es -3\n",
      "La suma de las funciones evaluadas en 2 es 25\n"
     ]
    }
   ],
   "source": [
    "# Funcion como argumento de otras funciones\n",
    "def lineal(x):\n",
    "    return 3*x+2\n",
    "def cuadratic(x):\n",
    "    return 2*x**2+5*x+2\n",
    "def cubic(x):\n",
    "    return -2*x**3+7*x**2-8*x+1\n",
    "def suma_funciones(x,y,z):\n",
    "    return x+y+z\n",
    "x=int(input('Ingresa el valor a evaluar en las funciones '))\n",
    "print(f'La función lineal evaluada en {x} es {lineal(x)}')\n",
    "print(f'La función cuadrática evaluada en {x} es {cuadratic(x)}')\n",
    "print(f'La función cúbica evaluada en {x} es {cubic(x)}')\n",
    "print(f'La suma de las funciones evaluadas en {x} es {suma_funciones(lineal(x),cuadratic(x),cubic(x))}')"
   ]
  },
  {
   "cell_type": "code",
   "execution_count": 14,
   "metadata": {},
   "outputs": [
    {
     "name": "stdout",
     "output_type": "stream",
     "text": [
      "Ingresa el valor a evaluar en las funciones 2\n",
      "La función lineal evaluada en 2 es 8\n",
      "La función cuadrática evaluada en 2 es 20\n",
      "La función cúbica evaluada en 2 es -3\n",
      "La suma de las funciones evaluada en 2 es: 25 \n"
     ]
    }
   ],
   "source": [
    "# Funciones en expresiones (anónimas) lambda\n",
    "\n",
    "x=int(input('Ingresa el valor a evaluar en las funciones '))\n",
    "\n",
    "lineal= lambda x: 3*x+2\n",
    "cuadratic = lambda x:2*x**2+5*x+2\n",
    "cubic = lambda x: -2*x**3+7*x**2-8*x+1\n",
    "suma = lambda x,y,z : x+y+z\n",
    "\n",
    "print(f'La función lineal evaluada en {x} es {lineal(x)}')\n",
    "print(f'La función cuadrática evaluada en {x} es {cuadratic(x)}')\n",
    "print(f'La función cúbica evaluada en {x} es {cubic(x)}')\n",
    "print(f'La suma de las funciones evaluada en {x} es: {suma(lineal(x),cuadratic(x),cubic(x))} ')"
   ]
  },
  {
   "cell_type": "code",
   "execution_count": 4,
   "metadata": {},
   "outputs": [
    {
     "data": {
      "text/plain": [
       "[2, -2.0]"
      ]
     },
     "execution_count": 4,
     "metadata": {},
     "output_type": "execute_result"
    }
   ],
   "source": [
    "def aplicar_operaciones(num):\n",
    "    operaciones = [abs, float]\n",
    "\n",
    "    resultado = []\n",
    "    for operacion in operaciones:\n",
    "        resultado.append(operacion(num))\n",
    "\n",
    "    return resultado\n",
    "aplicar_operaciones(-2)"
   ]
  },
  {
   "cell_type": "markdown",
   "metadata": {},
   "source": [
    "## Tuplas\n",
    "\n",
    "Son secuencias inmutables de objetos, es decir, es una lista de valores que no podemos modificar posteriormente. Se pueden reasignar pero estos apuntarán a otro espacio en memoria.\n",
    "\n",
    "Pueden utilizarse para devolver varios valores en una función y, a diferencia de las cadenas, las tuplas pueden contener cualquer tipo de objeto."
   ]
  },
  {
   "cell_type": "code",
   "execution_count": 10,
   "metadata": {},
   "outputs": [
    {
     "name": "stdout",
     "output_type": "stream",
     "text": [
      "<class 'tuple'>\n",
      "El valor de sumar 2 y 3 usando una función anónima dentro de la tupla mix es 5\n",
      "<class 'int'>\n",
      "<class 'bool'>\n",
      "<class 'float'>\n",
      "<class 'str'>\n",
      "Sumando dos tuplas\n",
      "(1, True, 11, 2, 'text', False, 5)\n",
      "<class 'tuple'>\n"
     ]
    }
   ],
   "source": [
    "# Mostraremos algunos ejemplos de tuplas y operaciones sobre ellas\n",
    "\n",
    "suma = lambda x,y: x+y\n",
    "\n",
    "mix = (2,'text',False, suma(2,3) )\n",
    "\n",
    "#A continuación verificamos que el tipo de mix sea 'tuple'\n",
    "print(type(mix))\n",
    "\n",
    "# Mostramos el valor de la suma de 2 y 3 a partir de la tupla mix\n",
    "print(f'El valor de sumar 2 y 3 usando una función anónima dentro de la tupla mix es {mix[3]}')\n",
    "\n",
    "# Cuando queremos iniciar una tupla con un solo valor debemos agregar coma al elemento así\n",
    "\n",
    "tupla_unica = (1,)\n",
    "\n",
    "#Lo anterior debido a que si no agregamos la coma, asumirá python que es tipo del elemento, es decir:\n",
    "\n",
    "tupla_unica_int =(1)\n",
    "tupla_unica_booleano =(True)\n",
    "tupla_unica_float =(1.36)\n",
    "tupla_unica_string =('Hola')\n",
    "\n",
    "#Verifiquemos ello con type\n",
    "\n",
    "print(type(tupla_unica_int))\n",
    "print(type(tupla_unica_booleano))\n",
    "print(type(tupla_unica_float))\n",
    "print(type(tupla_unica_string))\n",
    "\n",
    "# Para agregar una tupla con otra, podemos reasignar \n",
    "#la existente y sobreescibir los elementos\n",
    "2\n",
    ".\n",
    "print('Sumando dos tuplas')\n",
    "new_tupla = (1,True,suma(8,3))\n",
    "\n",
    "new_tupla += mix\n",
    "print(new_tupla)\n",
    "print(type(new_tupla))\n"
   ]
  },
  {
   "cell_type": "markdown",
   "metadata": {},
   "source": [
    "Otra situación que podríamos llegar a necesitar, es extraer o desempaquetar los elementos de las tuplas podemos hacer algo como\n",
    "\n",
    "x, y, z = tupla\n",
    "\n",
    "en el caso que nuestra tupla tenga 3 elementos exactamente. \n",
    "\n",
    "Es decir, el número de variables deberá coincidir con los elementos de la tupla. Veamos un ejemplo:\n"
   ]
  },
  {
   "cell_type": "code",
   "execution_count": 12,
   "metadata": {},
   "outputs": [
    {
     "name": "stdout",
     "output_type": "stream",
     "text": [
      "1\n",
      "2\n",
      "text\n",
      "True\n"
     ]
    }
   ],
   "source": [
    "#Definimos la tupla\n",
    "tupla=[1,2,'text',True ]\n",
    "# Desempecatemos los valores\n",
    "title2='Desempaquetando todos los valores de la tupla'\n",
    "\n",
    "x,y,z,w = tupla\n",
    "print(x)\n",
    "print(y)\n",
    "print(z)\n",
    "print(w)\n",
    "\n",
    "#Con type podemos verificar que efectivamente\n",
    "#se almacen con el mismo tipo en la nueva variable"
   ]
  },
  {
   "cell_type": "code",
   "execution_count": 14,
   "metadata": {},
   "outputs": [
    {
     "name": "stdout",
     "output_type": "stream",
     "text": [
      "False\n"
     ]
    }
   ],
   "source": [
    "#Si queremos un solo valor, nos ayudamos de los índices así:\n",
    "\n",
    "tupla2=[1,3,5,True, False, True]\n",
    "\n",
    "extraccion_booleano_false = tupla2[4]\n",
    "print(extraccion_booleano_false)"
   ]
  },
  {
   "cell_type": "code",
   "execution_count": 18,
   "metadata": {},
   "outputs": [
    {
     "name": "stdout",
     "output_type": "stream",
     "text": [
      "False\n",
      "True en string\n"
     ]
    }
   ],
   "source": [
    "#Si deseamos desempaquetar de una función también se puede así:\n",
    "\n",
    "def parejas():\n",
    "    return (False, 'True en string')\n",
    "\n",
    "booleano1, booleano2 = parejas()\n",
    "\n",
    "print(booleano1)\n",
    "print(booleano2)\n"
   ]
  },
  {
   "cell_type": "markdown",
   "metadata": {},
   "source": [
    "## Rangos\n",
    "\n",
    "Los rangos son una representación de una secuencia de enteros.Algunas características son:\n",
    "\n",
    "- Tienen la estructura **range(inicio,fin,saltos)**\n",
    "- Son inmutables\n",
    "- Muy eficientes en uso de memoria.\n",
    "- Usados normalmente en for loops\n",
    "\n",
    "**Nota**: Tener en cuenta al definir los saltos, pues en los rangos el extremo derecho no es inclusivo\n",
    "\n",
    "Veamos un ejemplo:"
   ]
  },
  {
   "cell_type": "code",
   "execution_count": 26,
   "metadata": {},
   "outputs": [
    {
     "name": "stdout",
     "output_type": "stream",
     "text": [
      "1\n",
      "3\n",
      "5\n",
      "7\n",
      "9\n",
      "--------------------------------------------------\n",
      "1\n",
      "2\n",
      "3\n",
      "4\n",
      "5\n",
      "6\n",
      "7\n",
      "8\n",
      "9\n"
     ]
    }
   ],
   "source": [
    "\n",
    "# Creamos un rango de impares desde el 1 al 10\n",
    "rango = range(1,10,2)\n",
    "\n",
    "# Al definir el rango, pasamos para imprimirlos con un for\n",
    "\n",
    "for i in rango:\n",
    "    print(i)\n",
    "    \n",
    "#Creamos un divisor para leer mejor las respuestas    \n",
    "divisor= '-'\n",
    "print(divisor*50)\n",
    "    \n",
    "#Veamos ahora como no se incluye el extremo, usando un rango sin pasos.\n",
    "\n",
    "rango2=range(1,10)\n",
    "for j in rango2:\n",
    "    print(j)"
   ]
  },
  {
   "cell_type": "markdown",
   "metadata": {},
   "source": [
    "## Listas y mutabilidad\n",
    "\n",
    "Las listas son objetos mutables (que se pueden modificar).\n",
    "\n",
    "Si modificamos una lista , pueden existir efectos secundarios(side effects)\n",
    "\n",
    "Es posible iterar con ellos.\n",
    "\n",
    "Para modificar una lista podemos:\n",
    "\n",
    "- Asignar vía índice\n",
    "- Utilizar los métodos de la lista(append,pop,remove,insert,etc)\n",
    "\n",
    "Veamos algunos ejemplos:\n"
   ]
  },
  {
   "cell_type": "code",
   "execution_count": 7,
   "metadata": {},
   "outputs": [
    {
     "name": "stdout",
     "output_type": "stream",
     "text": [
      "la lista original es [1, 2, True]\n",
      "la lista agregand un elemento es [1, 2, True, False] \n",
      "la lista usando pop es [1, 2, True]\n",
      "la lista quitando el valor del indice 0 es [2, True]\n",
      "Agregando un string en el índice 0 es['textoeninsert', 2, True]\n"
     ]
    }
   ],
   "source": [
    "lista=[1,2,True]\n",
    "\n",
    "print(f'la lista original es {lista}')\n",
    "\n",
    "#Añadimos un elemento\n",
    "lista.append(False)\n",
    "\n",
    "print(f'la lista agregand un elemento es {lista} ')\n",
    "\n",
    "#Quitamos el último elemento de la lista\n",
    "lista.pop()\n",
    "\n",
    "print(f'la lista usando pop es {lista}')\n",
    "\n",
    "#Eliminamos el indice 0 que contiene al 1\n",
    "lista.remove(1)\n",
    "\n",
    "print(f'la lista quitando el valor del indice 0 es {lista}')\n",
    "\n",
    "#Insertamos varios valores\n",
    "lista.insert(0,'textoeninsert')\n",
    "\n",
    "print(f'Agregando un string en el índice 0 es{lista}')\n"
   ]
  },
  {
   "cell_type": "markdown",
   "metadata": {},
   "source": [
    "### List comprehensions\n",
    "\n",
    "- Es una forma concisa de aplicar operaciones a los valores de una secuencia.\n",
    "- También se pueden aplicar condiciones para filtrar"
   ]
  },
  {
   "cell_type": "code",
   "execution_count": 8,
   "metadata": {},
   "outputs": [
    {
     "name": "stdout",
     "output_type": "stream",
     "text": [
      "Nuestra lista original es: \n",
      "[0, 1, 2, 3, 4, 5, 6, 7, 8, 9, 10, 11, 12, 13, 14, 15, 16, 17, 18, 19, 20, 21, 22, 23, 24, 25, 26, 27, 28, 29, 30, 31, 32, 33, 34, 35, 36, 37, 38, 39, 40, 41, 42, 43, 44, 45, 46, 47, 48, 49, 50, 51, 52, 53, 54, 55, 56, 57, 58, 59, 60, 61, 62, 63, 64, 65, 66, 67, 68, 69, 70, 71, 72, 73, 74, 75, 76, 77, 78, 79, 80, 81, 82, 83, 84, 85, 86, 87, 88, 89, 90, 91, 92, 93, 94, 95, 96, 97, 98, 99]\n",
      "El doble de los elementos de la lista original son:  \n",
      "[0, 2, 4, 6, 8, 10, 12, 14, 16, 18, 20, 22, 24, 26, 28, 30, 32, 34, 36, 38, 40, 42, 44, 46, 48, 50, 52, 54, 56, 58, 60, 62, 64, 66, 68, 70, 72, 74, 76, 78, 80, 82, 84, 86, 88, 90, 92, 94, 96, 98, 100, 102, 104, 106, 108, 110, 112, 114, 116, 118, 120, 122, 124, 126, 128, 130, 132, 134, 136, 138, 140, 142, 144, 146, 148, 150, 152, 154, 156, 158, 160, 162, 164, 166, 168, 170, 172, 174, 176, 178, 180, 182, 184, 186, 188, 190, 192, 194, 196, 198]\n",
      "Los pares de la lista original son: \n",
      "[0, 2, 4, 6, 8, 10, 12, 14, 16, 18, 20, 22, 24, 26, 28, 30, 32, 34, 36, 38, 40, 42, 44, 46, 48, 50, 52, 54, 56, 58, 60, 62, 64, 66, 68, 70, 72, 74, 76, 78, 80, 82, 84, 86, 88, 90, 92, 94, 96, 98]\n",
      "Los impares de la lista original son: \n",
      "[1, 3, 5, 7, 9, 11, 13, 15, 17, 19, 21, 23, 25, 27, 29, 31, 33, 35, 37, 39, 41, 43, 45, 47, 49, 51, 53, 55, 57, 59, 61, 63, 65, 67, 69, 71, 73, 75, 77, 79, 81, 83, 85, 87, 89, 91, 93, 95, 97, 99]\n"
     ]
    }
   ],
   "source": [
    "new_list = list(range(100))\n",
    "\n",
    "print(f'Nuestra lista original es: \\n{new_list}')\n",
    "#Vamos a duplicar new_list haciendo:\n",
    "double_list = [ i * 2 for i in new_list]\n",
    "\n",
    "print(f'El doble de los elementos de la lista original son:  \\n{double_list}')\n",
    "# Mostrar solo los valores pares de new_list\n",
    "\n",
    "even = [i for i in new_list if i % 2 ==0]\n",
    "\n",
    "print(f'Los pares de la lista original son: \\n{even}')\n",
    "\n",
    "# Mostrar solo los valores impares de new_list\n",
    "\n",
    "odd = [i for i in new_list if i % 2 !=0]\n",
    "\n",
    "print(f'Los impares de la lista original son: \\n{odd}')\n"
   ]
  },
  {
   "cell_type": "markdown",
   "metadata": {},
   "source": [
    "## Diccionarios\n",
    "\n",
    "- Son como listas, pero se acceden a los valores a través de llaves.\n",
    "- No tienen orden interno\n",
    "- Los diccionarios son mutables\n",
    "- Pueden iterarse\n",
    "\n",
    "Más info [aquí](https://www.w3schools.com/python/python_dictionaries.asp) o en la [documentación oficial](https://docs.python.org/3/tutorial/datastructures.html)"
   ]
  },
  {
   "cell_type": "code",
   "execution_count": 17,
   "metadata": {},
   "outputs": [
    {
     "name": "stdout",
     "output_type": "stream",
     "text": [
      "{'age': 35, 'city': 'Bogotá DC', 'profession': 'Bombero'}\n",
      "{'age': 35, 'city': 'Bogotá DC', 'profession': 'ingeniero', 'number': 625193}\n",
      "{'age': 35, 'profession': 'ingeniero', 'number': 625193}\n"
     ]
    }
   ],
   "source": [
    "dicti = {\n",
    "    'age': 35,\n",
    "    'city': 'Bogotá DC',\n",
    "    'profession': 'Bombero'\n",
    "\n",
    "}\n",
    "print(dicti) # Mostrando el original\n",
    "# Accediendo a los valores de las llaves\n",
    "\n",
    "dicti['profession']\n",
    "\n",
    "# Modificar valor a una llave\n",
    "\n",
    "dicti['profession']='ingeniero'\n",
    "\n",
    "#Agregando una llave con su valor\n",
    "\n",
    "dicti['number']=625193\n",
    "\n",
    "print(dicti) # Después de editar y agregar\n",
    "\n",
    "#Eliminando llave\n",
    "\n",
    "del dicti['city']\n",
    "\n",
    "print(dicti) # Después de eliminar\n"
   ]
  },
  {
   "cell_type": "markdown",
   "metadata": {},
   "source": [
    "En los diccionarios podemos iterar a lo largo de las llaves, de los valores o de los dos. Por ejemplo:"
   ]
  },
  {
   "cell_type": "code",
   "execution_count": 18,
   "metadata": {},
   "outputs": [
    {
     "name": "stdout",
     "output_type": "stream",
     "text": [
      "age\n",
      "profession\n",
      "number\n"
     ]
    }
   ],
   "source": [
    "# Extrayendo las llaves\n",
    "\n",
    "for key in dicti.keys():\n",
    "    print (key)"
   ]
  },
  {
   "cell_type": "code",
   "execution_count": 19,
   "metadata": {},
   "outputs": [
    {
     "name": "stdout",
     "output_type": "stream",
     "text": [
      "35\n",
      "ingeniero\n",
      "625193\n"
     ]
    }
   ],
   "source": [
    "# Extrayendo los valores\n",
    "\n",
    "for value in dicti.values():\n",
    "    print (value)"
   ]
  },
  {
   "cell_type": "code",
   "execution_count": 20,
   "metadata": {},
   "outputs": [
    {
     "name": "stdout",
     "output_type": "stream",
     "text": [
      "age 35\n",
      "profession ingeniero\n",
      "number 625193\n"
     ]
    }
   ],
   "source": [
    "# Extrayendo valores en llaves y valor\n",
    "\n",
    "for key, value in dicti.items():\n",
    "    print (key, value)"
   ]
  },
  {
   "cell_type": "code",
   "execution_count": null,
   "metadata": {},
   "outputs": [],
   "source": [
    "# En caso de requerir o conocer si tenemos valores de una llave hacemos\n",
    "\n",
    "'city' in dicti\n"
   ]
  }
 ],
 "metadata": {
  "kernelspec": {
   "display_name": "Python 3",
   "language": "python",
   "name": "python3"
  },
  "language_info": {
   "codemirror_mode": {
    "name": "ipython",
    "version": 3
   },
   "file_extension": ".py",
   "mimetype": "text/x-python",
   "name": "python",
   "nbconvert_exporter": "python",
   "pygments_lexer": "ipython3",
   "version": "3.7.6"
  }
 },
 "nbformat": 4,
 "nbformat_minor": 4
}
