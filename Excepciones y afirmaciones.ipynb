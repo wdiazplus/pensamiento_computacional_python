{
 "cells": [
  {
   "cell_type": "markdown",
   "metadata": {},
   "source": [
    "# Excepciones y afirmaciones\n",
    "\n",
    "### Manejo de excepciones\n",
    "\n",
    "Una excepción se crea cuano sale un error en nuestro código, y son frecuentes en la programación, por tanto no tienen nada de excepcional sino el nombre.\n",
    "\n",
    "Las excepciones en Python normalmente se relacionan con errores en la semántica.\n",
    "\n",
    "Se pueden crear excepciones propias y cuando éstas no se manejan (unhandled exception), el programa termina en error.\n",
    "\n",
    "¿Cómo manejarlas?\n",
    "\n",
    "- Se manejan con los keywords: try, except, finally en python\n",
    "- Se pueden usar para ramificar programas\n",
    "- No deben manejarse de manera silenciosa(por ejemplo, con print statements) sino darle solución.\n",
    "- Para lanzar una excepción propia, se debe utilizar el keyword raise\n",
    "\n",
    "Para conocer más detalles podemos investigar en [documentación oficial](https://docs.python.org/3/tutorial/errors.html) o [aquí](https://www.w3schools.com/python/python_try_except.asp#:~:text=The%20try%20block%20lets%20you,the%20try%2D%20and%20except%20blocks.)"
   ]
  },
  {
   "cell_type": "code",
   "execution_count": 1,
   "metadata": {},
   "outputs": [
    {
     "name": "stdout",
     "output_type": "stream",
     "text": [
      "No se puede divir la lista por cero\n"
     ]
    }
   ],
   "source": [
    "\n",
    "def divide_elementos_de_lista(lista, divisor):\n",
    "    try:\n",
    "        return [i / divisor for i in lista]\n",
    "    except ZeroDivisionError as e:\n",
    "        return ('No se puede divir la lista por cero')\n",
    "\n",
    "lista = list(range(10))\n",
    "# Generamos un error\n",
    "divisor = 0\n",
    "\n",
    "print(divide_elementos_de_lista(lista,divisor))"
   ]
  },
  {
   "cell_type": "markdown",
   "metadata": {},
   "source": [
    "\n",
    "### Excepciones como control de flujo\n",
    "\n",
    "En python las excepciones se usan a menuda para manejar también estructuras de control como if, elif, else.\n",
    "\n",
    "¿por qué es necesaria otra modalidad para controlar el flujo?\n",
    "\n",
    "Una razón muy específica: el principio EAFP (easier to ask for forgiveness than permission, es más fácil pedir perdón que permiso, por sus siglas en inglés).\n",
    "\n",
    "El principio **EAFP** es un estilo de programación común en Python en el cual se asumen llaves, índices o atributos válidos y se captura la excepción si la suposición resulta ser falsa. Es importante resaltar que otros lenguajes de\n",
    "programación favorecen el principio **LBYL** (look before you leap, revisa antes de saltar) en el cual el código verifica de manera explícita las precondiciones antes de realizar llamadas."
   ]
  },
  {
   "cell_type": "code",
   "execution_count": 12,
   "metadata": {},
   "outputs": [
    {
     "data": {
      "text/plain": [
       "'Colombia'"
      ]
     },
     "execution_count": 12,
     "metadata": {},
     "output_type": "execute_result"
    }
   ],
   "source": [
    "def busca_pais(paises, pais):\n",
    "    \"\"\"\n",
    "    Paises es un diccionario. Pais es la llave.\n",
    "    Codigo con el principio EAFP.\n",
    "    \"\"\"\n",
    "    try:\n",
    "        return paises['pais']\n",
    "    except KeyError:\n",
    "        return None\n",
    "    \n",
    "paises = {\n",
    "    'pais':'Colombia'\n",
    "}\n",
    "\n",
    "busca_pais(paises,'pais')"
   ]
  },
  {
   "cell_type": "markdown",
   "metadata": {},
   "source": [
    "**Nota**:Es importante resaltar que ambos estilos pueden utilizarse en Python, pero el estilo EAFP es mucho más “pythonico”."
   ]
  },
  {
   "cell_type": "markdown",
   "metadata": {},
   "source": [
    "### Afirmaciones\n",
    "\n",
    "Las afirmaciones son mecanismos mediante los cuáles sabemos si el programa cumple o no cumple, y así poder seguir con la ejecución del programa o terminarlo.\n",
    "\n",
    "Es un método de \"programación defensiva\" y pueden utilizarse para verificar que los tipos de inputs sean correctos en una función o para debuggear.\n",
    "\n",
    "La estructura es:  assert < expression booleana > , < mensaje de error >\n",
    "\n",
    "Se puede investigar más en [w3schools.com](https://www.w3schools.com/python/ref_keyword_assert.asp) o en la [documentación oficial](https://docs.python.org/3/reference/simple_stmts.html)"
   ]
  },
  {
   "cell_type": "code",
   "execution_count": 29,
   "metadata": {},
   "outputs": [
    {
     "ename": "AssertionError",
     "evalue": "No se permiten strings vacíos",
     "output_type": "error",
     "traceback": [
      "\u001b[0;31m---------------------------------------------------------------------------\u001b[0m",
      "\u001b[0;31mAssertionError\u001b[0m                            Traceback (most recent call last)",
      "\u001b[0;32m<ipython-input-29-f022c60073b6>\u001b[0m in \u001b[0;36m<module>\u001b[0;34m\u001b[0m\n\u001b[1;32m     13\u001b[0m \u001b[0mlista_con_numero\u001b[0m\u001b[0;34m=\u001b[0m \u001b[0;34m[\u001b[0m\u001b[0;34m'1'\u001b[0m\u001b[0;34m,\u001b[0m\u001b[0;34m'Antonio'\u001b[0m\u001b[0;34m,\u001b[0m \u001b[0;36m2\u001b[0m\u001b[0;34m]\u001b[0m\u001b[0;34m\u001b[0m\u001b[0;34m\u001b[0m\u001b[0m\n\u001b[1;32m     14\u001b[0m \u001b[0;34m\u001b[0m\u001b[0m\n\u001b[0;32m---> 15\u001b[0;31m \u001b[0mprimera_letra\u001b[0m\u001b[0;34m(\u001b[0m\u001b[0mlista_con_vacios\u001b[0m\u001b[0;34m)\u001b[0m\u001b[0;34m\u001b[0m\u001b[0;34m\u001b[0m\u001b[0m\n\u001b[0m",
      "\u001b[0;32m<ipython-input-29-f022c60073b6>\u001b[0m in \u001b[0;36mprimera_letra\u001b[0;34m(lista_de_palabras)\u001b[0m\n\u001b[1;32m      4\u001b[0m     \u001b[0;32mfor\u001b[0m \u001b[0mpalabra\u001b[0m \u001b[0;32min\u001b[0m \u001b[0mlista_de_palabras\u001b[0m\u001b[0;34m:\u001b[0m\u001b[0;34m\u001b[0m\u001b[0;34m\u001b[0m\u001b[0m\n\u001b[1;32m      5\u001b[0m         \u001b[0;32massert\u001b[0m \u001b[0mtype\u001b[0m\u001b[0;34m(\u001b[0m\u001b[0mpalabra\u001b[0m\u001b[0;34m)\u001b[0m \u001b[0;34m==\u001b[0m \u001b[0mstr\u001b[0m\u001b[0;34m,\u001b[0m \u001b[0;34mf'{palabra} no es string'\u001b[0m\u001b[0;34m\u001b[0m\u001b[0;34m\u001b[0m\u001b[0m\n\u001b[0;32m----> 6\u001b[0;31m         \u001b[0;32massert\u001b[0m \u001b[0mlen\u001b[0m\u001b[0;34m(\u001b[0m\u001b[0mpalabra\u001b[0m\u001b[0;34m)\u001b[0m \u001b[0;34m>\u001b[0m \u001b[0;36m0\u001b[0m\u001b[0;34m,\u001b[0m  \u001b[0;34m'No se permiten strings vacíos'\u001b[0m\u001b[0;34m\u001b[0m\u001b[0;34m\u001b[0m\u001b[0m\n\u001b[0m\u001b[1;32m      7\u001b[0m \u001b[0;34m\u001b[0m\u001b[0m\n\u001b[1;32m      8\u001b[0m         \u001b[0mprimeras_letras\u001b[0m\u001b[0;34m.\u001b[0m\u001b[0mappend\u001b[0m\u001b[0;34m(\u001b[0m\u001b[0mpalabra\u001b[0m\u001b[0;34m[\u001b[0m\u001b[0;36m0\u001b[0m\u001b[0;34m]\u001b[0m\u001b[0;34m)\u001b[0m\u001b[0;34m\u001b[0m\u001b[0;34m\u001b[0m\u001b[0m\n",
      "\u001b[0;31mAssertionError\u001b[0m: No se permiten strings vacíos"
     ]
    }
   ],
   "source": [
    "def primera_letra(lista_de_palabras):\n",
    "    primeras_letras=[]\n",
    "    \n",
    "    for palabra in lista_de_palabras:\n",
    "        assert type(palabra) == str, f'{palabra} no es string'\n",
    "        assert len(palabra) > 0,  'No se permiten strings vacíos'\n",
    "        \n",
    "        primeras_letras.append(palabra[0])\n",
    "    \n",
    "    return primeras_letras\n",
    "\n",
    "lista_con_vacios= ['','Antonio', 'ok']\n",
    "lista_con_numero= ['1','Antonio', 2]\n",
    "\n",
    "primera_letra(lista_con_vacios)"
   ]
  },
  {
   "cell_type": "code",
   "execution_count": 30,
   "metadata": {},
   "outputs": [
    {
     "ename": "AssertionError",
     "evalue": "2 no es string",
     "output_type": "error",
     "traceback": [
      "\u001b[0;31m---------------------------------------------------------------------------\u001b[0m",
      "\u001b[0;31mAssertionError\u001b[0m                            Traceback (most recent call last)",
      "\u001b[0;32m<ipython-input-30-067e70cb42ef>\u001b[0m in \u001b[0;36m<module>\u001b[0;34m\u001b[0m\n\u001b[0;32m----> 1\u001b[0;31m \u001b[0mprimera_letra\u001b[0m\u001b[0;34m(\u001b[0m\u001b[0mlista_con_numero\u001b[0m\u001b[0;34m)\u001b[0m\u001b[0;34m\u001b[0m\u001b[0;34m\u001b[0m\u001b[0m\n\u001b[0m",
      "\u001b[0;32m<ipython-input-29-f022c60073b6>\u001b[0m in \u001b[0;36mprimera_letra\u001b[0;34m(lista_de_palabras)\u001b[0m\n\u001b[1;32m      3\u001b[0m \u001b[0;34m\u001b[0m\u001b[0m\n\u001b[1;32m      4\u001b[0m     \u001b[0;32mfor\u001b[0m \u001b[0mpalabra\u001b[0m \u001b[0;32min\u001b[0m \u001b[0mlista_de_palabras\u001b[0m\u001b[0;34m:\u001b[0m\u001b[0;34m\u001b[0m\u001b[0;34m\u001b[0m\u001b[0m\n\u001b[0;32m----> 5\u001b[0;31m         \u001b[0;32massert\u001b[0m \u001b[0mtype\u001b[0m\u001b[0;34m(\u001b[0m\u001b[0mpalabra\u001b[0m\u001b[0;34m)\u001b[0m \u001b[0;34m==\u001b[0m \u001b[0mstr\u001b[0m\u001b[0;34m,\u001b[0m \u001b[0;34mf'{palabra} no es string'\u001b[0m\u001b[0;34m\u001b[0m\u001b[0;34m\u001b[0m\u001b[0m\n\u001b[0m\u001b[1;32m      6\u001b[0m         \u001b[0;32massert\u001b[0m \u001b[0mlen\u001b[0m\u001b[0;34m(\u001b[0m\u001b[0mpalabra\u001b[0m\u001b[0;34m)\u001b[0m \u001b[0;34m>\u001b[0m \u001b[0;36m0\u001b[0m\u001b[0;34m,\u001b[0m  \u001b[0;34m'No se permiten strings vacíos'\u001b[0m\u001b[0;34m\u001b[0m\u001b[0;34m\u001b[0m\u001b[0m\n\u001b[1;32m      7\u001b[0m \u001b[0;34m\u001b[0m\u001b[0m\n",
      "\u001b[0;31mAssertionError\u001b[0m: 2 no es string"
     ]
    }
   ],
   "source": [
    "primera_letra(lista_con_numero)"
   ]
  },
  {
   "cell_type": "code",
   "execution_count": null,
   "metadata": {},
   "outputs": [],
   "source": []
  }
 ],
 "metadata": {
  "kernelspec": {
   "display_name": "Python 3",
   "language": "python",
   "name": "python3"
  },
  "language_info": {
   "codemirror_mode": {
    "name": "ipython",
    "version": 3
   },
   "file_extension": ".py",
   "mimetype": "text/x-python",
   "name": "python",
   "nbconvert_exporter": "python",
   "pygments_lexer": "ipython3",
   "version": "3.7.6"
  }
 },
 "nbformat": 4,
 "nbformat_minor": 4
}
