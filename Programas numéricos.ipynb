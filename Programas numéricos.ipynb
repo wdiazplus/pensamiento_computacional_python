{
 "cells": [
  {
   "cell_type": "markdown",
   "metadata": {},
   "source": [
    "# Programas numéricos\n",
    "\n",
    "\n",
    "### Representación números flotantes\n",
    "\n",
    "[info aquí](https://platzi.com/clases/1764-python-cs/25239-representacion-de-flotantes/)\n",
    "\n",
    "### Enumeración exhaustiva\n",
    "\n",
    "Es un algoritmo, también llamado \"adivina y verifica\" en donde se enumeran todas las posibildades. \n",
    "\n",
    "### Aproximación de soluciones\n",
    "\n",
    "Es un algoritmo similar al anterior pero en este caso no se necesita dar una respuesta exacta. Se pueden dar respuestas con un margen de error que a menudo se llama ***epsilon***\n",
    "\n",
    "### Búsqueda binaria\n",
    "\n",
    "La búsqueda binaria se puede establecer cuando la respuesta se encuentra en un conjunto ordenado y así encontrar rapidamente lo buscado, siendo muy eficiente pues parte en dos el espacio de búsqueda por cada iteración.\n",
    "\n"
   ]
  },
  {
   "cell_type": "code",
   "execution_count": null,
   "metadata": {},
   "outputs": [],
   "source": []
  }
 ],
 "metadata": {
  "kernelspec": {
   "display_name": "Python 3",
   "language": "python",
   "name": "python3"
  },
  "language_info": {
   "codemirror_mode": {
    "name": "ipython",
    "version": 3
   },
   "file_extension": ".py",
   "mimetype": "text/x-python",
   "name": "python",
   "nbconvert_exporter": "python",
   "pygments_lexer": "ipython3",
   "version": "3.7.6"
  }
 },
 "nbformat": 4,
 "nbformat_minor": 4
}
