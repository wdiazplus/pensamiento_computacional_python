{
 "cells": [
  {
   "cell_type": "markdown",
   "metadata": {},
   "source": [
    "# Funciones y abstracción\n",
    "\n",
    "La abstracción y las funciones nos permiten modulizar código, generar clases, paquetes , etc para que el código sea entendible.\n",
    "\n",
    "La **abstracción** es el hecho de utilizar algún elemento sin necesidad de conocer que es lo que pasa internamente.\n",
    "\n",
    "Las **funciones** por su parte, permiten realizar ciertas acciones sobre un conjunto de datos.\n",
    "\n",
    "Un concepto importante en esta parte, es la **decomposición**, pues permite dividir el código en componentes que colaboran con un fin común. Se podría decir que la decomposición es el uso de subprogramas dentro de un programa.\n",
    "\n",
    "En Python, las funciones tienen la siguiente estructura:\n",
    "\n",
    "def <nombre>(<parametros>):\n",
    "    <cuerpo>\n",
    "    return <expresion>"
   ]
  },
  {
   "cell_type": "code",
   "execution_count": 3,
   "metadata": {},
   "outputs": [
    {
     "name": "stdout",
     "output_type": "stream",
     "text": [
      "Cuál es tu nombre Wilmer\n",
      "Hola Wilmer, bienvenido a este nuevo mundo tech\n"
     ]
    }
   ],
   "source": [
    "name = input('Cuál es tu nombre ')\n",
    "\n",
    "def saludo(name):\n",
    "    print(f'Hola {name}, bienvenido a este nuevo mundo tech')\n",
    "\n",
    "saludo(name)"
   ]
  },
  {
   "cell_type": "markdown",
   "metadata": {},
   "source": [
    "## Scope o Alcance\n",
    "\n",
    "El alcance de las funciones es hasta donde puede tomar información a partir del bloque que la define. Es decir, que el alcance de una función dependerá del contexto de ejecución donde se encuentre.\n",
    "\n",
    "El scope se puede clasificar en:\n",
    "\n",
    "- Scope global: Abarca todos los contextos de ejecución en una identación de nivel 1 o que estén ligados a la acción principal de nuestro código.\n",
    "- Scope local: Cuando el contexto de ejecución se encuentra dentro del scope global o dentro de otro scope local\n",
    "\n",
    "Recordemos que en Python, la identación es importante para que el lenguaje entienda nuestras líneas, y por tanto, hablamos de identación de nivel 1 cuando nuestras funciones están alineadas totalmente a la izquierdo del código.\n",
    "\n",
    "## Especificaciones del código\n",
    "\n",
    "Son las recomendaciones y guías en las que se comunica a los usuarios del código, cómo deben usarlo y cómo funciona. En python se les conoce como dot-strings y se pueden implementar ''' Qué hace - tipo,función y resultado esperado del parámetro  -  lo que regresa la función  '''. Para poder observar dichos detalles. usamos help(nombre_de_la_funcion)"
   ]
  },
  {
   "cell_type": "code",
   "execution_count": 4,
   "metadata": {},
   "outputs": [
    {
     "name": "stdout",
     "output_type": "stream",
     "text": [
      "Cuál es tu nombre Wilmer\n",
      "Hola Wilmer, bienvenido a este nuevo mundo tech\n",
      "Help on function saludo in module __main__:\n",
      "\n",
      "saludo(name)\n",
      "    Nuestra función saluda a los nuevos usuarios\n",
      "    name es un valor de tipo string que brinda el usuario\n",
      "    la función retorna un saludo amigable\n",
      "\n"
     ]
    }
   ],
   "source": [
    "name = input('Cuál es tu nombre ')\n",
    "\n",
    "def saludo(name):\n",
    "    ''' Nuestra función saluda a los nuevos usuarios\n",
    "        name es un valor de tipo string que brinda el usuario\n",
    "        la función retorna un saludo amigable '''\n",
    "    print(f'Hola {name}, bienvenido a este nuevo mundo tech')\n",
    "\n",
    "saludo(name)\n",
    "\n",
    "help(saludo)"
   ]
  },
  {
   "cell_type": "markdown",
   "metadata": {},
   "source": [
    "## Recursividad\n",
    "\n",
    "La recursividad es una de las herramientas más importantes dentro de la computación. Se puede definir en dos aspectos:\n",
    "\n",
    "- Algorítmica: Una forma de crear soluciones utilizando el principio de \"divide y vencerás\", que consiste en solucionar el problema a partir de la solución de pequeños problmas\n",
    "\n",
    "- Programática: Una técnica mediante la cual una función se llama a sí misma.\n",
    "\n",
    "Un ejemplo de esto, sería el factorial de un número. "
   ]
  }
 ],
 "metadata": {
  "kernelspec": {
   "display_name": "Python 3",
   "language": "python",
   "name": "python3"
  },
  "language_info": {
   "codemirror_mode": {
    "name": "ipython",
    "version": 3
   },
   "file_extension": ".py",
   "mimetype": "text/x-python",
   "name": "python",
   "nbconvert_exporter": "python",
   "pygments_lexer": "ipython3",
   "version": "3.7.6"
  }
 },
 "nbformat": 4,
 "nbformat_minor": 4
}
