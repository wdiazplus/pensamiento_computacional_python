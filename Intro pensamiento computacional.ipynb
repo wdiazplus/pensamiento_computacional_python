{
 "cells": [
  {
   "cell_type": "markdown",
   "metadata": {},
   "source": [
    "# Intro pensamiento computacional"
   ]
  },
  {
   "cell_type": "markdown",
   "metadata": {},
   "source": [
    "### Cómputo y computadoras\n",
    "\n",
    "- Las computadoras hacen dos cosas: cálculos y recuerdan el resultado de dichos cálculos.\n",
    "\n",
    "- A lo largo del tiempo, hemos estado limitados por la velocidad del cerebro y la mano.\n",
    "\n",
    "- Aún existiendo las computadoras actuales de gran escala, existen porblemas que no podrán resolversen.\n",
    "\n",
    "### Introducción a los lenguajes de programación\n",
    "\n",
    "¿Como damos instruicciones a las computadopras?\n",
    "\n",
    "- Conocimiento declarativo: Dice las relaciones existentes entre diferentes objetos.\n",
    "- Conocimiento imperativo: Dice como llegar a un resultado. De quí se desprenden los algoritmos. \n",
    "\n",
    "    - Un algoritmo es una lista finita de instrucciones que definen un       computo en tres pasos: Input-Ejecución-Output\n",
    "    \n",
    "¿Dónde empezaron los lenguajes de programación?\n",
    "\n",
    "Los lenguajes comenzaron con [Ada Lovelace](https://es.wikipedia.org/wiki/Ada_Lovelace) porque se dió cuenta que a partir de un motor analítico podía calcular la serie de Bernoulli.\n",
    "\n",
    "Después [Grace Murray Hopper](https://es.wikipedia.org/wiki/Grace_Murray_Hopper)se da cuenta que puede escribir a partir de binarios un programa que se pueda traducir a través de una computadora.\n",
    "\n",
    "Posteriormente [Dennis Ritchie](https://es.wikipedia.org/wiki/Dennis_Ritchie) inventó el lenguaje de programación C, que es de los más importantes pues influyo en todos los demás. \n",
    "\n",
    "Finalmente [Guido_van_Rossum](https://es.wikipedia.org/wiki/Guido_van_Rossum) se dio cuenta que los lenguajes de programación deberían ser comprensibles y por tanto creó python. \n",
    "\n",
    "Todos los lenguajes tienen:\n",
    "\n",
    "- Sintáxis: Define secuencia de símbolos que está bien formada.\n",
    "- Semántica estática: Define qué enunciados con sintaxis correcta tienen significado.\n",
    "- Semántica: Define el significado.Los lenguajes de programación sólo hay un signifcado.\n",
    "\n",
    "\n",
    "En general los **lenguajes de programación** se pueden clasificar en:\n",
    "\n",
    "\n",
    "- **Bajo nivel**(más cercano al hardware) o **alto nivel**(más cercano al lenguaje humano)\n",
    "\n",
    "- **General**(se puede ejercer cualquier tarea)  vs **dominio específico**(se ejercen tareas en áreas específicas)\n",
    "\n",
    "- **Interpretado**(se ejecuta y luego se interpreta) vs **compilado**(Se convierte en lenguaje máquina antes de ser ejecutado)"
   ]
  }
 ],
 "metadata": {
  "kernelspec": {
   "display_name": "Python 3",
   "language": "python",
   "name": "python3"
  },
  "language_info": {
   "codemirror_mode": {
    "name": "ipython",
    "version": 3
   },
   "file_extension": ".py",
   "mimetype": "text/x-python",
   "name": "python",
   "nbconvert_exporter": "python",
   "pygments_lexer": "ipython3",
   "version": "3.7.6"
  }
 },
 "nbformat": 4,
 "nbformat_minor": 4
}
